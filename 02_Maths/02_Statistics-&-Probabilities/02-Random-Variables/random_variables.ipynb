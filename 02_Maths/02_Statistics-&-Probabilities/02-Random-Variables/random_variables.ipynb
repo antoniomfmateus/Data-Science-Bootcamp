{
 "cells": [
  {
   "cell_type": "markdown",
   "metadata": {},
   "source": [
    "# Random Variables"
   ]
  },
  {
   "cell_type": "code",
   "execution_count": null,
   "metadata": {},
   "outputs": [],
   "source": [
    "# --- Math and Data Manipulation\n",
    "import numpy as np\n",
    "import math\n",
    "\n",
    "# --- Data Visualisation\n",
    "import matplotlib.pyplot as plt\n",
    "from matplotlib import colors\n",
    "import seaborn as sns"
   ]
  },
  {
   "cell_type": "markdown",
   "metadata": {},
   "source": [
    "## 1. Bernoulli and Binomial distributions"
   ]
  },
  {
   "cell_type": "markdown",
   "metadata": {},
   "source": [
    "### 1.1 Flipping a coin multiple times"
   ]
  },
  {
   "cell_type": "markdown",
   "metadata": {},
   "source": [
    "Reminder : \n",
    "* a probability equal to 0 (= 0%) means that an event will _never occur_\n",
    "* a probability equal to 1 (= 100%)  means that an event will _happen for sure_."
   ]
  },
  {
   "cell_type": "markdown",
   "metadata": {},
   "source": [
    "> ***1.*** How many possible outcomes do we have when flipping a coin 4 times ? \n",
    "\n",
    "There are $16 = 2 \\times 2 \\times 2 \\times 2 = 2^4$ possible outcomes.\n",
    "\n",
    "| Flip 1 | Flip 2 | Flip 3 | Flip 4 |\n",
    "|:--------:|:--------:|:--------:|:------:|\n",
    "| 1      | 1      | 1      | 1      |\n",
    "| 1      | 1      | 1      | 0      |\n",
    "| 1      | 1      | 0      | 1      |\n",
    "| 1      | 1      | 0      | 0      |\n",
    "| 1      | 0      | 1      | 1      |\n",
    "| 1      | 0      | 1      | 0      |\n",
    "| 1      | 0      | 0      | 1      |\n",
    "| 1      | 0      | 0      | 0      |\n",
    "| 0      | 1      | 1      | 1      |\n",
    "| 0      | 1      | 1      | 0      |\n",
    "| 0      | 1      | 0      | 1      |\n",
    "| 0      | 1      | 0      | 0      |\n",
    "| 0      | 0      | 1      | 1      |\n",
    "| 0      | 0      | 1      | 0      |\n",
    "| 0      | 0      | 0      | 1      |\n",
    "| 0      | 0      | 0      | 0      |\n",
    "\n",
    "    \n",
    "> ***2.*** What is the probability of getting 4 heads?\n",
    "\n",
    "There is only  1 way of getting 4 heads (and hence no tails).\n",
    "\n",
    "| Flip 1 | Flip 2 | Flip 3 | Flip 4 |\n",
    "|:--------:|:--------:|:--------:|:------:|\n",
    "| 1      | 1      | 1      | 1      |\n",
    "\n",
    "Let's call __A__ the event of getting exactly 4 heads.  The probability of A is:\n",
    "\n",
    "$$ P(A) = \\frac{1}{16} = 0.0625 = 6.25 \\% $$\n",
    "\n",
    "\n",
    "> ***3.*** What is the probability of getting exactly 2 heads and 2 tails?\n",
    "\n",
    "There are 6 ways of getting 2 heads (and hence 2 tails).\n",
    "\n",
    "| Flip 1 | Flip 2 | Flip 3 | Flip 4 |\n",
    "|:--------:|:--------:|:--------:|:------:|\n",
    "| 1      | 1      | 0      | 0      |\n",
    "| 1      | 0      | 1      | 0      |\n",
    "| 1      | 0      | 0      | 1      |\n",
    "| 0      | 1      | 1      | 0      |\n",
    "| 0      | 1      | 0      | 1      |\n",
    "| 0      | 0      | 1      | 1      |\n",
    "\n",
    "\n",
    "Let's call __B__ the event of getting exactly 2 heads and 2 tails. The probability of B is:\n",
    "\n",
    "$$ P(B) = \\frac{6}{16} = 0.375 = 37.5 \\% $$\n",
    "\n",
    "</details>"
   ]
  },
  {
   "cell_type": "markdown",
   "metadata": {},
   "source": [
    "Visual representation of this 4-coin experiment\n",
    "\n",
    "<img src=\"https://wagon-public-datasets.s3.amazonaws.com/data-science-images/math/toss_a_coin_four_times.jpeg\">\n",
    "\n",
    "</details>"
   ]
  },
  {
   "cell_type": "markdown",
   "metadata": {},
   "source": [
    "### 1.2 A bit of theory about Binomial distributions (reading section)"
   ]
  },
  {
   "cell_type": "markdown",
   "metadata": {},
   "source": [
    "---\n",
    "\n",
    "\n",
    "With 4 flips, we can count the possibilities of the different scenarios \"manually\", but how would you do that with 200 flips \n",
    "\n",
    "---\n",
    "\n",
    "**The context**:\n",
    "\n",
    "- We are running an experiment $n$ times\n",
    "- Each experiment has a probability $ p \\in [0,1] $ of **success** ($ \\Leftrightarrow $ a probability $ 1 - p $ of **failure**) \n",
    "\n",
    "In the context of a **fair coin**, we obviously have $ p = 1 - p = 50 \\% = 0.5 $\n",
    "\n",
    "<u>Vocabulary:</u>\n",
    "* An experiment with only two outcomes (success/failure) has a **Bernoulli (p) distribution**.\n",
    "* When we repeat this Bernoulli process n times and count the numbers success $X$, we talk about a **Binomial (n,p) distribution**.\n",
    "\n",
    "\n",
    "\n",
    "**Counting the number of \"successes\" among n repeated experiments**:\n",
    "\n",
    "Counting the number of ways to get $k$ heads (the successes) among $n$ flips (the repeated experiment) ...\n",
    "\n",
    "...is equivalent to counting the number of ways to select $k$ items from a set that has $n$ distinct elements, *such that the order of selection does not matter*\n",
    "\n",
    "- If the order mattered, picking $k$ elements *one-by-one* among $n$ could be done in $n(n−1)...(n−k+1)$ ways ($n$ choice for the first element, $n-1$ for the second, ..., $n−k+1$ for the $k$-th )\n",
    "\n",
    "- However, in this ordered count, any *unordered set* of $k$ elements have been counted $k(k-1)(k-2)...$ times ($k$ choice for the first, $k-1$ for the second, etc...)\n",
    "\n",
    "- Therefore, if we want the *unordered* count, we have to compensate for (divide by) them. Hence, **the number of ways to get k successes out of n experiments** is given by:\n",
    "\n",
    "$${\\frac {n(n-1)\\dotsb (n-k+1)}{k(k-1)\\dotsb 1}}$$\n",
    "\n",
    "This is mathematically equivalent to:\n",
    "\n",
    "$$ \\frac{n!}{k! (n - k)!} \\text{ , where  } n! = 1\\times 2 \\times ... \\times n $$\n",
    "\n",
    "and is written\n",
    "\n",
    "$$ \\binom{n}{k} $$\n",
    "\n",
    "\n",
    "\n",
    "* $ \\binom{n}{k} $ reads as `\"n choose k\"`, or `\"binomial coefficient for k among n\"` \n",
    "* $ n!$ reads as `\"n factorial\"`"
   ]
  },
  {
   "cell_type": "markdown",
   "metadata": {},
   "source": [
    "### 1.3 Implementing the theory"
   ]
  },
  {
   "cell_type": "markdown",
   "metadata": {},
   "source": [
    "A general principle for \"easy\" situations like cards, coins, dice is to compute the probability of an event as follows: $$ probability = \\frac{possibilities}{all.the.possibilities} $$\n",
    "\n",
    "Let's implement the functions `count_possibilities`, `count_total_possibilities` and  then`probability` down below ❓\n",
    "\n",
    "Use [`math.factorial()`](https://docs.python.org/3/library/math.html)"
   ]
  },
  {
   "cell_type": "code",
   "execution_count": null,
   "metadata": {
    "tags": [
     "delete"
    ]
   },
   "outputs": [],
   "source": [
    "import math"
   ]
  },
  {
   "cell_type": "code",
   "execution_count": null,
   "metadata": {},
   "outputs": [],
   "source": [
    "def count_possibilities(n_toss, n_heads):\n",
    "    '''return the number of possibilities to get n_heads when flipping the coin n_toss times\n",
    "        Ex: count_possibilities(4, 4)  = 1'''\n",
    "    return math.factorial(n_toss) / (math.factorial(n_heads) * math.factorial(n_toss - n_heads))"
   ]
  },
  {
   "cell_type": "code",
   "execution_count": null,
   "metadata": {},
   "outputs": [],
   "source": [
    "def count_total_possibilities(n_toss):\n",
    "    '''return the total amount of different combinations when flipping the coins n_toss times\n",
    "        Ex: count_total_possibilities(3) = 8'''\n",
    "    return 2**n_toss"
   ]
  },
  {
   "cell_type": "code",
   "execution_count": null,
   "metadata": {},
   "outputs": [],
   "source": [
    "def probability(n_toss):\n",
    "    '''return a dictionary. The keys will be the possible number of heads in each game,\n",
    "            so they can't be over `n_toss` or under 0. The values for each of those keys will correspond\n",
    "            to the probability of a game ending with that result.\n",
    "      probability(5) = {0: ..., 1:..., 2:..., 3:..., 4:..., 5:...}'''\n",
    "    count_heads_dict = {}\n",
    "    for n_heads in range(n_toss + 1):\n",
    "        proba = count_possibilities(n_toss, n_heads)\n",
    "        count_heads_dict[n_heads] = proba/count_total_possibilities(n_toss)\n",
    "    return count_heads_dict"
   ]
  },
  {
   "cell_type": "markdown",
   "metadata": {},
   "source": [
    "### 1.4 Plotting the Binomial distribution: what happens when we toss the coin many times ?"
   ]
  },
  {
   "cell_type": "markdown",
   "metadata": {},
   "source": [
    "Let's start by tossing the coin **4 times** as in the previous section.\n",
    "\n",
    "Using the `probability` function, plot the `distribution` of a 4-coin experiment in a **bar chart**"
   ]
  },
  {
   "cell_type": "code",
   "execution_count": null,
   "metadata": {
    "tags": [
     "challengify"
    ]
   },
   "outputs": [
    {
     "name": "stdout",
     "output_type": "stream",
     "text": [
      "{0: 0.0625, 1: 0.25, 2: 0.375, 3: 0.25, 4: 0.0625}\n"
     ]
    },
    {
     "data": {
      "image/png": "[encoded data removed]",
      "text/plain": [
       "<Figure size 432x288 with 1 Axes>"
      ]
     },
     "metadata": {
      "needs_background": "light"
     },
     "output_type": "display_data"
    }
   ],
   "source": [
    "# Computing the probabilites of getting 0, 1, 2, 3, 4 heads among 4 tosses\n",
    "\n",
    "n_toss = 4\n",
    "distribution = probability(n_toss)\n",
    "print(distribution)\n",
    "\n",
    "\n",
    "# Showing the distribution of this 4-coin experiment in a bar plot\n",
    "\n",
    "possible_number_of_heads = distribution.keys()\n",
    "respective_probabilities = distribution.values()\n",
    "plt.bar(possible_number_of_heads, respective_probabilities, color = 'blue');"
   ]
  },
  {
   "cell_type": "markdown",
   "metadata": {},
   "source": [
    "If you implemented your function correctly, you should visually see that:\n",
    "- the event _\"get 2 heads out of 4\"_ has the highest probability (37.5%) \n",
    "- the distribution is symmetrical\n",
    "- on average, you will get 2 heads"
   ]
  },
  {
   "cell_type": "markdown",
   "metadata": {},
   "source": [
    "Increase the number `n_toss` (1, 5, 10, 20, 30, ...) and  plot the distribution of a `n_toss`-coin experiment in a  **bar chart**, using once again the `probability` function"
   ]
  },
  {
   "cell_type": "code",
   "execution_count": null,
   "metadata": {
    "tags": [
     "challengify"
    ]
   },
   "outputs": [
    {
     "data": {
      "image/png": "[encoded data removed]",
      "text/plain": [
       "<Figure size 432x288 with 1 Axes>"
      ]
     },
     "metadata": {
      "needs_background": "light"
     },
     "output_type": "display_data"
    },
    {
     "data": {
      "text/plain": [
       "<Figure size 144x144 with 0 Axes>"
      ]
     },
     "metadata": {},
     "output_type": "display_data"
    },
    {
     "data": {
      "image/png": "[encoded data removed]",
      "text/plain": [
       "<Figure size 432x288 with 1 Axes>"
      ]
     },
     "metadata": {
      "needs_background": "light"
     },
     "output_type": "display_data"
    },
    {
     "data": {
      "text/plain": [
       "<Figure size 144x144 with 0 Axes>"
      ]
     },
     "metadata": {},
     "output_type": "display_data"
    },
    {
     "data": {
      "image/png": "[encoded data removed]",
      "text/plain": [
       "<Figure size 432x288 with 1 Axes>"
      ]
     },
     "metadata": {
      "needs_background": "light"
     },
     "output_type": "display_data"
    },
    {
     "data": {
      "text/plain": [
       "<Figure size 144x144 with 0 Axes>"
      ]
     },
     "metadata": {},
     "output_type": "display_data"
    },
    {
     "data": {
      "image/png": "[encoded data removed]",
      "text/plain": [
       "<Figure size 432x288 with 1 Axes>"
      ]
     },
     "metadata": {
      "needs_background": "light"
     },
     "output_type": "display_data"
    },
    {
     "data": {
      "text/plain": [
       "<Figure size 144x144 with 0 Axes>"
      ]
     },
     "metadata": {},
     "output_type": "display_data"
    },
    {
     "data": {
      "image/png": "[encoded data removed]",
      "text/plain": [
       "<Figure size 432x288 with 1 Axes>"
      ]
     },
     "metadata": {
      "needs_background": "light"
     },
     "output_type": "display_data"
    },
    {
     "data": {
      "text/plain": [
       "<Figure size 144x144 with 0 Axes>"
      ]
     },
     "metadata": {},
     "output_type": "display_data"
    }
   ],
   "source": [
    "list_of_n_toss = [1,5, 10, 20, 30]\n",
    "\n",
    "for n_toss in list_of_n_toss:\n",
    "    \n",
    "    # Computing the probabilites of getting 0, 1, 2, ..., n_toss heads among 4 tosses\n",
    "    distribution = probability(n_toss)\n",
    "\n",
    "    # Showing the distribution of this 4-coin experiment in a bar plot\n",
    "\n",
    "    possible_number_of_heads = distribution.keys()\n",
    "    respective_probabilities = distribution.values()\n",
    "    plt.title(f\"Tossing {n_toss} coins\");\n",
    "    plt.bar(possible_number_of_heads, respective_probabilities, color = 'pink');\n",
    "    plt.xlim((0-1, n_toss +1));\n",
    "    plt.figure(figsize = (2,2));\n",
    "    plt.show();    "
   ]
  },
  {
   "cell_type": "markdown",
   "metadata": {},
   "source": [
    "How does the probability distribution function evolve when you increase the number of experiments"
   ]
  },
  {
   "cell_type": "markdown",
   "metadata": {
    "tags": [
     "challengify"
    ]
   },
   "source": []
  },
  {
   "cell_type": "markdown",
   "metadata": {},
   "source": [
    "<details>\n",
    "    <summary>Consequence of increasing the number of tosses:</summary>\n",
    "    \n",
    "* If your implementation of the previous functions is correct, (the more coin flips you do =) **the more `n_toss` increases, the smoother the graph becomes**. 🤩 \n",
    "        \n",
    "* It converges towards the famous “bell curve” *a.k.a.* the **`normal distribution`** 🔥 \n",
    "\n",
    "</details>        "
   ]
  },
  {
   "cell_type": "markdown",
   "metadata": {},
   "source": [
    "## 2. The Geometric distribution"
   ]
  },
  {
   "cell_type": "markdown",
   "metadata": {},
   "source": [
    "### 2.1 Passing the driving license test"
   ]
  },
  {
   "cell_type": "markdown",
   "metadata": {},
   "source": [
    "Do you have your driving license ? You are probably aware that taking and passing this test is a juicy business... \n",
    "\n",
    "The success rate of each attempt is for example:\n",
    "* $ p_{FR} = 60 \\% $ in France\n",
    "* $ p_{UK} = 54.5 \\% $ in the UK\n",
    "\n",
    "You probably have friends who took the test two or three times before succeeding. \n",
    "\n",
    "What is the probability that a person living in the UK gets his/her driving license on the 2nd attempt ❓"
   ]
  },
  {
   "cell_type": "code",
   "execution_count": null,
   "metadata": {
    "tags": [
     "challengify"
    ]
   },
   "outputs": [
    {
     "name": "stdout",
     "output_type": "stream",
     "text": [
      "The probability that a person living in the UK get his/her driving license after two attempts is 24.8 %\n"
     ]
    }
   ],
   "source": [
    "proba_uk = 0.545\n",
    "\n",
    "uk_two_attempts = (1 - proba_uk) * proba_uk\n",
    "\n",
    "print(f\"The probability that a person living in the UK get his/her driving license after two attempts is {round(uk_two_attempts,4)*100} %\")"
   ]
  },
  {
   "cell_type": "markdown",
   "metadata": {},
   "source": [
    "If a person needed two tests to pass the driving license, it means that he/she:\n",
    "- failed at the first attempt with probability $ 1 - p$\n",
    "- succeeded at the second attempt with probability $ p \\in [0,1]$\n",
    "\n",
    "assuming he/she didn't \"learn\" any lesson from the first failed attempt (!)\n",
    "    \n",
    "</details>"
   ]
  },
  {
   "cell_type": "markdown",
   "metadata": {},
   "source": [
    "### 2.2 Modelling the first time of success (short reading section)"
   ]
  },
  {
   "cell_type": "markdown",
   "metadata": {},
   "source": [
    "The goal of the **Geometric distribution** is the compute the <b>probability to succeed for the first time at the n<sup>th</sup> attempt </b>. This implies:\n",
    "- $ n - 1 $ failures, each of them with probability $ 1 - p  \\Rightarrow \\underbrace{(1-p) \\times (1-p) \\times ... \\times (1-p)}_\\text{n-1 failures} = (1-p)^{n-1}$\n",
    "- $ 1 $ unique success with probability $ p $\n",
    "\n",
    "Hence, if we denote by `X` the time of first success, and want to compute the probability of succeeding for the first time at the n<sup>th</sup> attempt </b>, we can use the following formula:\n",
    "\n",
    "$$ \\mathbb{P}(X=n) = (1-p)^{n-1} \\times p $$"
   ]
  },
  {
   "cell_type": "markdown",
   "metadata": {},
   "source": [
    "### 2.3 Application"
   ]
  },
  {
   "cell_type": "markdown",
   "metadata": {},
   "source": [
    "Create a function `probability_first_time` which returns the probability of succeeding for the first time  at the n<sup>th</sup> attempt </b> based in a probability of success $p$"
   ]
  },
  {
   "cell_type": "code",
   "execution_count": null,
   "metadata": {},
   "outputs": [],
   "source": [
    "def probability_first_time(p, n):\n",
    "    ''' returns the probability of succeeding at the n-th attempt'''\n",
    "    if n <=0:\n",
    "        return None # You cannot be succesful if you don't try something at least once !!!\n",
    "    else:\n",
    "        return ((1-p)**(n-1))*p"
   ]
  },
  {
   "cell_type": "markdown",
   "metadata": {},
   "source": [
    "Let's vizualize the probabilities of the driving license test in the UK.\n",
    "\n",
    "Plot in a **bar chart** the (decreasing) probabilities of succedding after the 1<sup>st</sup> attempt, the <sup>2nd</sup> attempt, the <sup>3rd</sup> attempt, the <sup>4th</sup> attempt, the <sup>5th</sup> attempt \n"
   ]
  },
  {
   "cell_type": "code",
   "execution_count": null,
   "metadata": {
    "tags": [
     "challengify"
    ]
   },
   "outputs": [
    {
     "data": {
      "text/plain": [
       "{1: 0.545,\n",
       " 2: 0.247975,\n",
       " 3: 0.11282862499999999,\n",
       " 4: 0.05133702437499999,\n",
       " 5: 0.023358346090624996}"
      ]
     },
     "execution_count": null,
     "metadata": {},
     "output_type": "execute_result"
    }
   ],
   "source": [
    "maximal_number_of_attempts = 5\n",
    "driving_license_uk = {k: probability_first_time(proba_uk, k) for k in range(1,maximal_number_of_attempts + 1)}\n",
    "driving_license_uk"
   ]
  },
  {
   "cell_type": "code",
   "execution_count": null,
   "metadata": {
    "tags": [
     "delete"
    ]
   },
   "outputs": [
    {
     "data": {
      "image/png": "[encoded data removed]",
      "text/plain": [
       "<Figure size 432x288 with 1 Axes>"
      ]
     },
     "metadata": {
      "needs_background": "light"
     },
     "output_type": "display_data"
    }
   ],
   "source": [
    "possible_number_of_attemps = driving_license_uk.keys()\n",
    "associated_probabilities = driving_license_uk.values()\n",
    "plt.bar(possible_number_of_attemps, associated_probabilities, color = 'purple');"
   ]
  },
  {
   "cell_type": "markdown",
   "metadata": {},
   "source": [
    "Visual takeaways:\n",
    "\n",
    "You should see an *exponential* decrease of probabilities    \n",
    "* The probability of triumphing the first practical driving test is approx 55%\n",
    "* The probability of failing the first one and succeeding in the second one is approx 25%\n",
    "* The probability of failing the first and the second ones and succeeding only in the third one is approx 11%\n",
    "\n",
    "The author of this challenge needed 3 attempts to pass his driving test in France\n",
    "</details>"
   ]
  },
  {
   "cell_type": "markdown",
   "metadata": {},
   "source": [
    "## 3. Other distributions and conclusion (just a short reading section)"
   ]
  },
  {
   "cell_type": "markdown",
   "metadata": {},
   "source": [
    "### 3.1 Discrete vs. Continous Random Variable"
   ]
  },
  {
   "cell_type": "markdown",
   "metadata": {},
   "source": [
    "<b><u>Discrete Random Variable</u></b>"
   ]
  },
  {
   "cell_type": "markdown",
   "metadata": {},
   "source": [
    "A Random Variable is qualified as **discrete** when its outcome can be \"counted with your fingers\":\n",
    "\n",
    "Here are some examples of discrete random variables:\n",
    "* Success (1) or Failure (0)\n",
    "* Number of successes\n",
    "* First time of success\n",
    "* Goals scored during a football game\n",
    "* Outcome of rolling a dice\n",
    "* Number of tickets raised by a student during the bootcamp\n",
    "* ...\n",
    "\n",
    "There are plenty of classic discrete distributions and we've already covered three of them: `Bernouli(p)`, `Binomial(n,p)`, `Geometric(p)` \n",
    " _Here is an 8-min-read article that you could look into a bit later:_ [Probability Distributions with real life exemples](https://medium.datadriveninvestor.com/probability-distributions-with-real-life-examples-55d054f663a7)"
   ]
  },
  {
   "cell_type": "markdown",
   "metadata": {},
   "source": [
    "<b><u>Continuous Random Variable</u></b>"
   ]
  },
  {
   "cell_type": "markdown",
   "metadata": {},
   "source": [
    "👩🏻‍🏫 A Random Variable is qualified as **continuous** when... it is not discrete, to keep things simple!\n",
    "\n",
    "Here are some examples of continous random variables:\n",
    "* the temperature in 1 week\n",
    "* the percentages of votes for a political party in the next election\n",
    "* the stock price of a listed company in two years\n",
    "* the average IQ in a sampled population\n",
    "* ...\n",
    "\n",
    "🚀 The most famous continuous probability distribution used in Data Science and in life in general is the **`Gaussian Distribution`** $ \\mathcal{N} (\\mu, \\sigma) $. \n",
    "\n",
    "Many features on this planet  have a bell-shaped curve: \n",
    "* the height of  human beings\n",
    "* the weight of new-borns\n",
    "* the IQ\n",
    "* the average retirement age for NFL players\n",
    "* the blood pressure\n",
    "* ...\n",
    "\n",
    "🤔 But why does the Gaussian Distribution appear to model so many physical phenomena ??\n",
    "\n",
    "<details>\n",
    "    <summary markdown='span'>Answer</summary>\n",
    "<br>\n",
    "Because lots of macro-phenomena are the results of a sum (or mean) of independent processes!  \n",
    "    \n",
    "And the **Central Limit Theorem** tells us that sum of random variable converges towards the normal distribution!\n",
    "(more on that in next challenge!)\n",
    "\n",
    "</details>\n",
    "\n",
    "<br>\n",
    "\n",
    "There are many continuous probability distributions out there but it is completely out of the scope of the bootcamp.  \n",
    "So please **stay focused on the Gaussian distribution** during the next weeks ❗️❗️❗️"
   ]
  }
 ],
 "metadata": {
  "kernelspec": {
   "display_name": "Python 3 (ipykernel)",
   "language": "python",
   "name": "python3"
  },
  "language_info": {
   "codemirror_mode": {
    "name": "ipython",
    "version": 3
   },
   "file_extension": ".py",
   "mimetype": "text/x-python",
   "name": "python",
   "nbconvert_exporter": "python",
   "pygments_lexer": "ipython3",
   "version": "3.10.6"
  },
  "toc": {
   "base_numbering": 1,
   "nav_menu": {},
   "number_sections": true,
   "sideBar": true,
   "skip_h1_title": false,
   "title_cell": "Table of Contents",
   "title_sidebar": "Contents",
   "toc_cell": false,
   "toc_position": {},
   "toc_section_display": true,
   "toc_window_display": false
  }
 },
 "nbformat": 4,
 "nbformat_minor": 4
}
