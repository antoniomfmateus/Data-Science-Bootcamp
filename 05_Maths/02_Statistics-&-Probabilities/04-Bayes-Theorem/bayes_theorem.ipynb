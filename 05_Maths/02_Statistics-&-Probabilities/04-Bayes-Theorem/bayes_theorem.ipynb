{
 "cells": [
  {
   "cell_type": "markdown",
   "id": "dab4bb87",
   "metadata": {},
   "source": [
    "# The `Bayes Theorem` (Optional Challenge)"
   ]
  },
  {
   "cell_type": "code",
   "execution_count": null,
   "id": "ee2b6748",
   "metadata": {},
   "outputs": [],
   "source": [
    "import pandas as pd\n",
    "import numpy as np"
   ]
  },
  {
   "cell_type": "markdown",
   "id": "2a55058b",
   "metadata": {},
   "source": [
    "\n",
    "* The Bayes Theorem allows you to compute `a conditional probability`.\n",
    "* It is widely used in Machine Learning to `update your knowledge`\n",
    "* Despite its pretty simple formula, it can `highlight unexpected insights`\n",
    "\n",
    " What is the `Bayes Theorem` ? According to [Brilliant](https://brilliant.org/wiki/bayes-theorem/) :\n",
    "\n",
    "> Bayes' theorem is a formula that describes how to update the probabilities of hypotheses (A) when given evidence (Data).\n",
    "\n",
    "\n",
    " The formula is the following:\n",
    "\n",
    "$$ \\mathbb{P}(A | Data) =  \\mathbb{P}(A) \\times \\frac{\\mathbb{P}(Data | A) }{\\mathbb{P}(Data)}$$"
   ]
  },
  {
   "cell_type": "markdown",
   "id": "736dac53",
   "metadata": {},
   "source": [
    "## 0) Challenge context: Should we play sport outside expecting some weather conditions ?"
   ]
  },
  {
   "cell_type": "markdown",
   "id": "faa324d5",
   "metadata": {},
   "source": [
    "* We'll try to recompute this formula.\n",
    "\n",
    "* We have a dataset with `weather conditions` (Rain, Sunny, Overcast) and `play` (Yes, No) suggesting whether a sport game should be played based on the weather conditions."
   ]
  },
  {
   "cell_type": "code",
   "execution_count": null,
   "id": "67898d6d",
   "metadata": {},
   "outputs": [
    {
     "data": {
      "text/html": [
       "<div>\n",
       "<style scoped>\n",
       "    .dataframe tbody tr th:only-of-type {\n",
       "        vertical-align: middle;\n",
       "    }\n",
       "\n",
       "    .dataframe tbody tr th {\n",
       "        vertical-align: top;\n",
       "    }\n",
       "\n",
       "    .dataframe thead th {\n",
       "        text-align: right;\n",
       "    }\n",
       "</style>\n",
       "<table border=\"1\" class=\"dataframe\">\n",
       "  <thead>\n",
       "    <tr style=\"text-align: right;\">\n",
       "      <th></th>\n",
       "      <th>weather</th>\n",
       "      <th>play</th>\n",
       "    </tr>\n",
       "  </thead>\n",
       "  <tbody>\n",
       "    <tr>\n",
       "      <th>0</th>\n",
       "      <td>Sunny</td>\n",
       "      <td>No</td>\n",
       "    </tr>\n",
       "    <tr>\n",
       "      <th>1</th>\n",
       "      <td>Overcast</td>\n",
       "      <td>Yes</td>\n",
       "    </tr>\n",
       "    <tr>\n",
       "      <th>2</th>\n",
       "      <td>Rainy</td>\n",
       "      <td>Yes</td>\n",
       "    </tr>\n",
       "    <tr>\n",
       "      <th>3</th>\n",
       "      <td>Sunny</td>\n",
       "      <td>Yes</td>\n",
       "    </tr>\n",
       "    <tr>\n",
       "      <th>4</th>\n",
       "      <td>Sunny</td>\n",
       "      <td>Yes</td>\n",
       "    </tr>\n",
       "    <tr>\n",
       "      <th>5</th>\n",
       "      <td>Overcast</td>\n",
       "      <td>Yes</td>\n",
       "    </tr>\n",
       "    <tr>\n",
       "      <th>6</th>\n",
       "      <td>Rainy</td>\n",
       "      <td>No</td>\n",
       "    </tr>\n",
       "    <tr>\n",
       "      <th>7</th>\n",
       "      <td>Rainy</td>\n",
       "      <td>No</td>\n",
       "    </tr>\n",
       "    <tr>\n",
       "      <th>8</th>\n",
       "      <td>Sunny</td>\n",
       "      <td>Yes</td>\n",
       "    </tr>\n",
       "    <tr>\n",
       "      <th>9</th>\n",
       "      <td>Rainy</td>\n",
       "      <td>Yes</td>\n",
       "    </tr>\n",
       "    <tr>\n",
       "      <th>10</th>\n",
       "      <td>Sunny</td>\n",
       "      <td>No</td>\n",
       "    </tr>\n",
       "    <tr>\n",
       "      <th>11</th>\n",
       "      <td>Overcast</td>\n",
       "      <td>Yes</td>\n",
       "    </tr>\n",
       "    <tr>\n",
       "      <th>12</th>\n",
       "      <td>Overcast</td>\n",
       "      <td>Yes</td>\n",
       "    </tr>\n",
       "    <tr>\n",
       "      <th>13</th>\n",
       "      <td>Rainy</td>\n",
       "      <td>No</td>\n",
       "    </tr>\n",
       "  </tbody>\n",
       "</table>\n",
       "</div>"
      ],
      "text/plain": [
       "     weather play\n",
       "0      Sunny   No\n",
       "1   Overcast  Yes\n",
       "2      Rainy  Yes\n",
       "3      Sunny  Yes\n",
       "4      Sunny  Yes\n",
       "5   Overcast  Yes\n",
       "6      Rainy   No\n",
       "7      Rainy   No\n",
       "8      Sunny  Yes\n",
       "9      Rainy  Yes\n",
       "10     Sunny   No\n",
       "11  Overcast  Yes\n",
       "12  Overcast  Yes\n",
       "13     Rainy   No"
      ]
     },
     "execution_count": null,
     "metadata": {},
     "output_type": "execute_result"
    }
   ],
   "source": [
    "weather_data_example = ['Sunny', 'Overcast', 'Rainy', 'Sunny', 'Sunny', 'Overcast', 'Rainy', 'Rainy', 'Sunny',\n",
    "'Rainy', 'Sunny', 'Overcast', 'Overcast', 'Rainy']\n",
    "\n",
    "play_data_example = ['No', 'Yes', 'Yes', 'Yes', 'Yes', 'Yes', 'No', 'No', 'Yes', 'Yes', 'No', 'Yes', 'Yes', 'No']\n",
    "\n",
    "data = {'weather': weather_data_example, 'play': play_data_example}\n",
    "\n",
    "df = pd.DataFrame(data = data)\n",
    "df"
   ]
  },
  {
   "cell_type": "markdown",
   "id": "29c2b7e3",
   "metadata": {},
   "source": [
    " Let's compute $ \\large P(play \\mid weather) = P(play) \\times \\frac{P(weather \\mid play)}{P(weather)} $"
   ]
  },
  {
   "cell_type": "markdown",
   "id": "74583400",
   "metadata": {},
   "source": [
    "## 1) Understanding the numbers with a `frequency table`"
   ]
  },
  {
   "cell_type": "markdown",
   "id": "5a77a697",
   "metadata": {},
   "source": [
    "| Weather  | Played | No | Total |\n",
    "|----------|------|----|-------|\n",
    "| Sunny    | 3    | 2  | 5     |\n",
    "| Overcast | 4    | 0  | 4     |\n",
    "| Rainy    | 2    | 3  | 5     |\n",
    "| Total    | 9    | 5  | 14    |     "
   ]
  },
  {
   "cell_type": "markdown",
   "id": "a7844d14",
   "metadata": {},
   "source": [
    "## 2) Prior probability : $ \\mathbb{P}(play)$"
   ]
  },
  {
   "cell_type": "markdown",
   "id": "05c312c2",
   "metadata": {},
   "source": [
    " What is the theoretical probability of a game being played \n",
    "\n",
    "Look at the numbers in your previous table.\n",
    "\n",
    "Answer\n",
    "    \n",
    "| Weather  | Played | No | Total |\n",
    "|----------|------|----|-------|\n",
    "| Total    | 9    | 5  | 14    |     \n",
    "    \n",
    "$ \\mathbb{P}(played) = \\frac{9}{14} = 64.29 \\% $\n"
   ]
  },
  {
   "cell_type": "markdown",
   "id": "b56564c0",
   "metadata": {},
   "source": [
    " Code the `prior_probability` function to compute the result."
   ]
  },
  {
   "cell_type": "code",
   "execution_count": null,
   "id": "f21baf8e",
   "metadata": {},
   "outputs": [],
   "source": [
    "def prior_probability(event_name: str, observations: list) -> float:\n",
    "    '''\n",
    "    Returns P(played)\n",
    "    '''   \n",
    "    counter = 0\n",
    "    for i in observations:\n",
    "        if i == event_name:\n",
    "            counter += 1\n",
    "    return float(counter/len(observations))\n",
    "\n",
    "# Run the following to test your code.\n",
    "# If nothing shows, your function works. Otherwise, inspect your code to fix it!\n",
    "assert(round(prior_probability(\"Yes\", play_data_example),4) == 0.6429)"
   ]
  },
  {
   "cell_type": "code",
   "execution_count": null,
   "id": "4a979917",
   "metadata": {
    "tags": [
     "delete"
    ]
   },
   "outputs": [],
   "source": [
    "# A PYTHONIC SOLUTION \n",
    "def prior_probability_pythonic(event_name: str, observations: list) -> float:\n",
    "    return sum([element == event_name for element in observations])/len(observations)\n",
    "\n",
    "# Run the following to test your code.\n",
    "# If nothing shows, your function works. Otherwise, inspect your code to fix it!\n",
    "assert(round(prior_probability_pythonic(\"Yes\", play_data_example),4) == 0.6429)"
   ]
  },
  {
   "cell_type": "code",
   "execution_count": null,
   "id": "745a24a3",
   "metadata": {
    "tags": [
     "delete"
    ]
   },
   "outputs": [],
   "source": [
    "# AN EVEN SHORTER SOLUTION WITH NUMPY\n",
    "def prior_probability_numpy_ic(weather, played, weather_data, play_data):\n",
    "    return np.mean(np.array(play_data)==played)\n",
    "\n",
    "# Run the following to test your code.\n",
    "# If nothing shows, your function works. Otherwise, inspect your code to fix it!\n",
    "assert(round(prior_probability_pythonic(\"Yes\", play_data_example),4) == 0.6429)"
   ]
  },
  {
   "cell_type": "markdown",
   "id": "4a00eee6",
   "metadata": {},
   "source": [
    "## 3) Likelihood :  $ \\mathbb{P}(weather | play)$"
   ]
  },
  {
   "cell_type": "markdown",
   "id": "22b17906",
   "metadata": {},
   "source": [
    " What is the theoretical probability of the weather being rainy knowing that a game was NOT played:\n",
    "\n",
    "    \n",
    "| Weather  | No | \n",
    "|----------|----|\n",
    "| Sunny    | 2  | \n",
    "| Overcast | 0  | \n",
    "| Rainy    | 3  | \n",
    "| Total    | 5  |         \n",
    "    \n",
    "$ \\mathbb{P}(play) = \\frac{3}{5} = 60 \\% $\n",
    "</details>"
   ]
  },
  {
   "cell_type": "code",
   "execution_count": null,
   "id": "e6924a7b",
   "metadata": {},
   "outputs": [],
   "source": [
    "def likelihood(weather, played, weather_data, play_data):\n",
    "    '''return P(weather|play)'''    \n",
    "    total = 0\n",
    "    occurences = 0\n",
    "    for i in range(len(play_data)):\n",
    "        if play_data[i] == played:\n",
    "            total += 1\n",
    "            if weather_data[i] == weather:\n",
    "                occurences += 1\n",
    "    return float(occurences/total)  \n",
    "\n",
    "# Run the following to test your code.\n",
    "# If nothing shows, your function works. Otherwise, inspect your code to fix it!\n",
    "assert(likelihood(\"Rainy\", \"No\", weather_data_example, play_data_example) == 0.60)"
   ]
  },
  {
   "cell_type": "code",
   "execution_count": null,
   "id": "1e09a211",
   "metadata": {
    "tags": [
     "delete"
    ]
   },
   "outputs": [],
   "source": [
    "# ANOTHER SOLUTION : GOOD PYTHON STYLE\n",
    "def likelihood_pythonic(weather, played, weather_data, play_data):\n",
    "    '''TO DO: return P(weather|play)'''\n",
    "    count_intersection = sum([ x == \"Rainy\" and y == \"No\" for x,y in zip(weather_data, play_data)])\n",
    "    count_known_data = sum([y == \"No\" for y in play_data])\n",
    "    return count_intersection / count_known_data\n",
    "\n",
    "# Run the following to test your code.\n",
    "# If nothing shows, your function works. Otherwise, inspect your code to fix it!\n",
    "assert(likelihood_pythonic(\"Rainy\", \"No\", weather_data_example, play_data_example) == 0.60)"
   ]
  },
  {
   "cell_type": "code",
   "execution_count": null,
   "id": "6c4584cc",
   "metadata": {
    "tags": [
     "delete"
    ]
   },
   "outputs": [],
   "source": [
    "# AN EVEN SHORTER SOLUTION: EVEN FASTER WITH NUMPY\n",
    "def likelihood_numpy_ic(weather, played, weather_data, play_data):\n",
    "    return np.mean(np.array(weather_data)[np.array(play_data)==played]==weather)\n",
    "\n",
    "# Run the following to test your code.\n",
    "# If nothing shows, your function works. Otherwise, inspect your code to fix it!\n",
    "assert(likelihood_numpy_ic(\"Rainy\", \"No\", weather_data_example, play_data_example) == 0.60)"
   ]
  },
  {
   "cell_type": "markdown",
   "id": "5bc01d91",
   "metadata": {},
   "source": [
    "## 4) Posterior probability : $ \\large P(play \\mid weather ) = P(play) \\times \\frac{P(weather \\mid play)}{P(weather)} $"
   ]
  },
  {
   "cell_type": "markdown",
   "id": "f26eaf81",
   "metadata": {},
   "source": [
    " We can finally compute the posterior probability as: \n",
    "\n",
    "$$\\large \\text{posterior probability} = \\text{prior probability} \\times \\text{likelihood} \\times \\beta $$ \n",
    "\n",
    "where $ \\large \\beta = \\frac{1}{P(weather)} $ is a _normalization factor_.\n",
    " \n",
    "\n",
    "  Expected results:\n",
    "\n",
    "Remember the table that you completed earlier ? \n",
    "\n",
    "| Weather  | Played | No | Total |\n",
    "|----------|------|----|-------|\n",
    "| Sunny    | 3    | 2  | 5     |\n",
    "| Overcast | 4    | 0  | 4     |\n",
    "| Rainy    | 2    | 3  | 5     |\n",
    "| Total    | 9    | 5  | 14    |   \n",
    "    \n",
    "Based on this table, we can compute $ \\mathbb{P}(played | weather) $\n",
    "    \n",
    "| Weather  | Proba(Played\\|Weather) | Proba(No\\|Weather) |\n",
    "|----------|----------------------|--------------------|\n",
    "| Sunny    | 3/5 = 0.6                  | 2/5 = 0.4                |\n",
    "| Overcast | 4/4 = 1.0                  | 0/4 = 0.0                |\n",
    "| Rainy    | 2/5 = 0.4                  | 3/5 = 0.6                |\n",
    "    \n"
   ]
  },
  {
   "cell_type": "code",
   "execution_count": null,
   "id": "9347e127",
   "metadata": {},
   "outputs": [],
   "source": [
    "def posterior_probability(played, weather, weather_data, play_data):\n",
    "    '''return P(play|weather)\n",
    "    '''     \n",
    "    p_played = prior_probability(played, play_data)\n",
    "    p_weather = prior_probability(weather, weather_data)\n",
    "    p_likelihood = likelihood(weather, played, weather_data, play_data)\n",
    "    return p_played * p_likelihood / p_weather"
   ]
  },
  {
   "cell_type": "code",
   "execution_count": null,
   "id": "442ea0e7",
   "metadata": {},
   "outputs": [],
   "source": [
    "# Run the following cell to test your code\n",
    "assert(np.isclose(posterior_probability(\"Yes\", \"Sunny\", weather_data_example, play_data_example), 0.6))\n",
    "assert(np.isclose(posterior_probability(\"No\", \"Sunny\", weather_data_example, play_data_example), 0.4))\n",
    "assert(np.isclose(posterior_probability(\"Yes\", \"Overcast\", weather_data_example, play_data_example), 1.0))\n",
    "assert(np.isclose(posterior_probability(\"No\", \"Overcast\", weather_data_example, play_data_example), 0))\n",
    "assert(np.isclose(posterior_probability(\"Yes\", \"Rainy\", weather_data_example, play_data_example), 0.4))\n",
    "assert(np.isclose(posterior_probability(\"No\", \"Rainy\", weather_data_example, play_data_example), 0.6))"
   ]
  }
 ],
 "metadata": {
  "kernelspec": {
   "display_name": "Python 3 (ipykernel)",
   "language": "python",
   "name": "python3"
  },
  "language_info": {
   "codemirror_mode": {
    "name": "ipython",
    "version": 3
   },
   "file_extension": ".py",
   "mimetype": "text/x-python",
   "name": "python",
   "nbconvert_exporter": "python",
   "pygments_lexer": "ipython3",
   "version": "3.10.6"
  },
  "toc": {
   "base_numbering": 1,
   "nav_menu": {},
   "number_sections": true,
   "sideBar": true,
   "skip_h1_title": false,
   "title_cell": "Table of Contents",
   "title_sidebar": "Contents",
   "toc_cell": false,
   "toc_position": {},
   "toc_section_display": true,
   "toc_window_display": false
  }
 },
 "nbformat": 4,
 "nbformat_minor": 5
}
