{
 "cells": [
  {
   "cell_type": "markdown",
   "metadata": {},
   "source": [
    "# Understand embeddings with Word2Vec"
   ]
  },
  {
   "cell_type": "markdown",
   "metadata": {},
   "source": [
    "### Exercise objectives:\n",
    "- Convert 🔠 words to 🔢 vector representations thanks to embeddings\n",
    "- Discover the powerful Word2Vec algorithm\n",
    "\n",
    "<hr>\n",
    "\n",
    "_Embeddings_ are representations of words using vectors. These embeddings can be learned within a Neural Network. But it can take time to converge. Another option is to learn them as a first step. Then, use them directly to feed the word representations into a Recurrent Neural Network. "
   ]
  },
  {
   "cell_type": "markdown",
   "metadata": {},
   "source": [
    "▶️ Run this cell and make sure the version of 📚 [Gensim - Word2Vec](https://radimrehurek.com/gensim/auto_examples/index.html) you are using is ≥ 4.0!"
   ]
  },
  {
   "cell_type": "code",
   "execution_count": null,
   "metadata": {},
   "outputs": [
    {
     "name": "stdout",
     "output_type": "stream",
     "text": [
      "gensim==4.2.0\n"
     ]
    }
   ],
   "source": [
    "!pip freeze | grep gensim"
   ]
  },
  {
   "cell_type": "code",
   "execution_count": null,
   "metadata": {},
   "outputs": [
    {
     "name": "stdout",
     "output_type": "stream",
     "text": [
      "tensorflow-datasets==4.4.0\r\n",
      "tensorflow-estimator==2.5.0\r\n",
      "tensorflow-macos==2.5.0\r\n",
      "tensorflow-metadata==1.5.0\r\n"
     ]
    }
   ],
   "source": [
    "!pip freeze | grep tensorflow"
   ]
  },
  {
   "cell_type": "markdown",
   "metadata": {},
   "source": [
    "# The data"
   ]
  },
  {
   "cell_type": "markdown",
   "metadata": {},
   "source": [
    "Keras provides many datasets, among which is the IMDB dataset 🎬:\n",
    "- It is comprised of sentences that are ***movie reviews***. \n",
    "- Each of these reviews is related to a score given by the reviewer.\n",
    "\n",
    "❓ **Question** ❓ First of all, let's load the data. You don't have to understand what is going on in the function, it does not matter here.\n",
    "\n",
    "⚠️ **Warning** ⚠️ The `load_data` function has a `percentage_of_sentences` argument. Depending on your computer, there are chances that too many sentences will make your compute slow down, or even freeze - your RAM can overflow. For that reason, **you should start with 10% of the sentences** and see if your computer can handle it. Otherwise, rerun with a lower number.  \n",
    "\n",
    "⚠️ **DISCLAIMER** ⚠️ **No need to play _who has the biggest_ (RAM) !** The idea is to get to run your models quickly to prototype. Even in real life, it is recommended that you start with a subset of your data to loop and debug quickly. So increase the number only if you are into getting the best accuracy. "
   ]
  },
  {
   "cell_type": "code",
   "execution_count": null,
   "metadata": {},
   "outputs": [
    {
     "name": "stderr",
     "output_type": "stream",
     "text": [
      "2022-12-15 16:04:36.274674: I tensorflow/core/platform/cpu_feature_guard.cc:142] This TensorFlow binary is optimized with oneAPI Deep Neural Network Library (oneDNN) to use the following CPU instructions in performance-critical operations:  SSE4.2\n",
      "To enable them in other operations, rebuild TensorFlow with the appropriate compiler flags.\n",
      "2022-12-15 16:04:36.300372: I tensorflow/compiler/mlir/mlir_graph_optimization_pass.cc:176] None of the MLIR Optimization Passes are enabled (registered 2)\n"
     ]
    }
   ],
   "source": [
    "###########################################\n",
    "### Just run this cell to load the data ###\n",
    "###########################################\n",
    "\n",
    "import tensorflow_datasets as tfds\n",
    "from tensorflow.keras.preprocessing.text import text_to_word_sequence\n",
    "\n",
    "def load_data(percentage_of_sentences=None):\n",
    "    train_data, test_data = tfds.load(name=\"imdb_reviews\", split=[\"train\", \"test\"], batch_size=-1, as_supervised=True)\n",
    "\n",
    "    train_sentences, y_train = tfds.as_numpy(train_data)\n",
    "    test_sentences, y_test = tfds.as_numpy(test_data)\n",
    "    \n",
    "    # Take only a given percentage of the entire data\n",
    "    if percentage_of_sentences is not None:\n",
    "        assert(percentage_of_sentences> 0 and percentage_of_sentences<=100)\n",
    "        \n",
    "        len_train = int(percentage_of_sentences/100*len(train_sentences))\n",
    "        train_sentences, y_train = train_sentences[:len_train], y_train[:len_train]\n",
    "  \n",
    "        len_test = int(percentage_of_sentences/100*len(test_sentences))\n",
    "        test_sentences, y_test = test_sentences[:len_test], y_test[:len_test]\n",
    "    \n",
    "    X_train = [text_to_word_sequence(_.decode(\"utf-8\")) for _ in train_sentences]\n",
    "    X_test = [text_to_word_sequence(_.decode(\"utf-8\")) for _ in test_sentences]\n",
    "    \n",
    "    return X_train, y_train, X_test, y_test\n",
    "\n",
    "X_train, y_train, X_test, y_test = load_data(percentage_of_sentences=10)"
   ]
  },
  {
   "cell_type": "markdown",
   "metadata": {},
   "source": [
    "<b><u>Embeddings in the previous challenge</u></b>:\n",
    "\n",
    "In the previous exercise, we jointly learned a representation for the words, and fed this representation to a RNN, as shown down below 👇: \n",
    "\n",
    "<img src=\"layers_embedding.png\" width=\"400px\" />\n",
    "\n",
    "However, this increases the number of parameters to learn, which slows down and increases the difficulty of convergence!"
   ]
  },
  {
   "cell_type": "markdown",
   "metadata": {},
   "source": [
    "<b><u>Embeddings in the current challenge</u></b>:\n",
    "\n",
    "For this reason, we will separate the steps of learning the word representation and feeding it into a RNN. As shown here: \n",
    "\n",
    "<img src=\"word2vec_representation.png\" width=\"400px\" />\n",
    "\n",
    "We will learn the embedding with Word2Vec.\n",
    "\n",
    "The drawback is indeed that the learned embeddings are not _specifically_ designed for our task. However, learning them independently of the task at hand (sentiment analysis) has some advantages: \n",
    "- it is very fast to do in general (with Word2Vec)\n",
    "- the representation learned by Word2Vec is still meaningful \n",
    "- the convergence of the RNN alone will be easier and faster\n",
    "\n",
    "So let's learn an embedding with Word2Vec and see how meaningful it is!"
   ]
  },
  {
   "cell_type": "markdown",
   "metadata": {},
   "source": [
    "# Embedding with Word2Vec"
   ]
  },
  {
   "cell_type": "markdown",
   "metadata": {},
   "source": [
    "Let's use Word2Vec to embed the words of our sentences. Word2Vec will be able to convert each word to a fixed-size vectorial representation.\n",
    "\n",
    "For instance, we will have:\n",
    "- 🐶 _dog_ $\\rightarrow$ [0.1, -0.3, 0.8]\n",
    "- 🐱 _cat_ $\\rightarrow$ [-1.1, 2.3, 0.7]\n",
    "- 🍏 _apple_ $\\rightarrow$ [3.1, 0.9, -4.7]\n",
    "\n",
    "Here, your embedding space is of size 3.\n",
    "\n",
    "***What is a \"good\" numerical representation of words?***\n",
    "\n",
    "- ***Words with close meanings should be geometrically close in your embedding space!***\n",
    "\n",
    "    - Look at the following example which represents a bi-dimensional embedding space.\n",
    "\n",
    "![Embedding](word_embedding.png)"
   ]
  },
  {
   "cell_type": "markdown",
   "metadata": {},
   "source": [
    "❓ **Question** ❓ Let's run Word2Vec! \n",
    "\n",
    "[📚 **Gensim**](https://radimrehurek.com/gensim/)  is a great Python package that makes the use of the Word2Vec algorithm easy to implement, fast and accurate (which is not an easy task!).\n",
    "\n",
    "1. The following code imports Word2Vec from Gensim. \n",
    "\n",
    "2. The second line learns the embedding representation of the words thanks to the sentences in `X_train`. \n",
    "3. The third line stores the words and their trained embeddings in `wv`."
   ]
  },
  {
   "cell_type": "code",
   "execution_count": null,
   "metadata": {
    "tags": []
   },
   "outputs": [],
   "source": [
    "from gensim.models import Word2Vec\n",
    "\n",
    "word2vec = Word2Vec(sentences=X_train)\n",
    "wv = word2vec.wv"
   ]
  },
  {
   "cell_type": "markdown",
   "metadata": {},
   "source": [
    "Let's look at the embedded representation of some words.\n",
    "\n",
    "You can use `wv` as a dictionary.\n",
    "For instance, `wv['dog']` will return a representation of `dog` in the embedding space."
   ]
  },
  {
   "cell_type": "markdown",
   "metadata": {},
   "source": [
    "❓ **Question** ❓ Try different words - especially, try non-existing words to see that they don't have any representation (which is perfectly normal as their representation was not learned). "
   ]
  },
  {
   "cell_type": "code",
   "execution_count": null,
   "metadata": {
    "tags": [
     "challengify"
    ]
   },
   "outputs": [
    {
     "data": {
      "text/plain": [
       "array([-0.19186734,  0.22234204, -0.142256  ,  0.224345  , -0.04641562,\n",
       "       -0.33466563,  0.07749064,  0.59909374, -0.17184138, -0.18089017,\n",
       "       -0.09453601, -0.31231916,  0.01270966,  0.13353649, -0.06283185,\n",
       "       -0.23803407,  0.21317205, -0.25499526,  0.02756986, -0.32357204,\n",
       "        0.15030822,  0.06989185,  0.2253488 , -0.12677103,  0.00357071,\n",
       "        0.02755304, -0.19260211, -0.13890955, -0.16185567,  0.04942019,\n",
       "        0.15557073, -0.01013835,  0.12464715, -0.39604506, -0.11429287,\n",
       "        0.2511753 ,  0.14449888, -0.16770484, -0.28108016, -0.31706405,\n",
       "       -0.20256214, -0.25689456, -0.2289354 ,  0.20280707,  0.35576236,\n",
       "       -0.02068608, -0.19925056, -0.07876119,  0.2791514 ,  0.1658909 ,\n",
       "        0.09512982, -0.1571164 , -0.23963816, -0.00384257, -0.21235366,\n",
       "        0.16598035,  0.15183707, -0.06285815, -0.25525463,  0.06876912,\n",
       "        0.12795481, -0.00845536, -0.00407859,  0.11937051, -0.23659346,\n",
       "        0.21359728, -0.07570607,  0.20113088, -0.32617337,  0.33592474,\n",
       "       -0.14981793,  0.2112751 ,  0.29645348, -0.22035234,  0.38762832,\n",
       "        0.1479983 ,  0.01769037,  0.12095374, -0.18428582, -0.01737198,\n",
       "       -0.22889341, -0.18361944, -0.26199827,  0.22033048, -0.16567603,\n",
       "       -0.20635352, -0.03201416,  0.33497643,  0.33733675,  0.10959392,\n",
       "        0.2484819 ,  0.24098642,  0.04577554,  0.08173224,  0.44052303,\n",
       "        0.13873236,  0.2628432 , -0.21236971,  0.0473977 ,  0.00814984],\n",
       "      dtype=float32)"
      ]
     },
     "execution_count": null,
     "metadata": {},
     "output_type": "execute_result"
    }
   ],
   "source": [
    "wv['dog']"
   ]
  },
  {
   "cell_type": "markdown",
   "metadata": {},
   "source": [
    "❓ **Question** ❓ What is the size of each word representation, and therefore, what is the size of the embedding space?"
   ]
  },
  {
   "cell_type": "code",
   "execution_count": null,
   "metadata": {
    "tags": [
     "challengify"
    ]
   },
   "outputs": [
    {
     "name": "stdout",
     "output_type": "stream",
     "text": [
      "The embedding space is of size 100\n"
     ]
    }
   ],
   "source": [
    "size = len(wv['cat'])\n",
    "\n",
    "print(f'The embedding space is of size {size}')"
   ]
  },
  {
   "cell_type": "markdown",
   "metadata": {},
   "source": [
    "🧐 How do we know whether this embedding make any sense or not? \n",
    "\n",
    "💡 To investigate this question, we will check that words with a close meaning have close representations. \n",
    "\n",
    "👉 Let's use the [**`Word2Vec.wv.most_similar`**](https://radimrehurek.com/gensim/models/keyedvectors.html#gensim.models.keyedvectors.KeyedVectors.most_similar) method that, given an input word, displays the \"closest\" words in the embedding space. If the embedding is well done, then words with similar meanings will have similar representation in the embedding space."
   ]
  },
  {
   "cell_type": "markdown",
   "metadata": {},
   "source": [
    "❓ **Question** ❓ Try out the `most_similar` method on different words. \n",
    "\n",
    "🧑🏿‍🏫 The quality of the closeness will depend on the quality of your embedding, and thus, depend on the number of sentences that you have loaded and from which you create your embedding."
   ]
  },
  {
   "cell_type": "code",
   "execution_count": null,
   "metadata": {
    "tags": [
     "challengify"
    ]
   },
   "outputs": [
    {
     "data": {
      "text/plain": [
       "[('room', 0.9778954982757568),\n",
       " ('attend', 0.971542239189148),\n",
       " ('escape', 0.9707173705101013),\n",
       " ('prison', 0.9685426354408264),\n",
       " ('hit', 0.9670687913894653),\n",
       " ('authority', 0.9658195972442627),\n",
       " ('body', 0.9650561213493347),\n",
       " ('crying', 0.9648758769035339),\n",
       " ('cell', 0.964623212814331),\n",
       " ('wake', 0.9643272161483765)]"
      ]
     },
     "execution_count": null,
     "metadata": {},
     "output_type": "execute_result"
    }
   ],
   "source": [
    "wv.most_similar(\"car\")"
   ]
  },
  {
   "cell_type": "markdown",
   "metadata": {},
   "source": [
    "📚 Similarly to `most_similar` used on words directly, we can use [**`similar_by_vector`**](https://radimrehurek.com/gensim/models/keyedvectors.html#gensim.models.keyedvectors.KeyedVectors.similar_by_vector) on vectors to do the same thing:"
   ]
  },
  {
   "cell_type": "code",
   "execution_count": null,
   "metadata": {
    "tags": [
     "challengify"
    ]
   },
   "outputs": [
    {
     "data": {
      "text/plain": [
       "[('car', 0.9999999403953552),\n",
       " ('room', 0.9778954982757568),\n",
       " ('attend', 0.9715423583984375),\n",
       " ('escape', 0.9707173705101013),\n",
       " ('prison', 0.9685426354408264),\n",
       " ('hit', 0.9670689105987549),\n",
       " ('authority', 0.9658196568489075),\n",
       " ('body', 0.9650561213493347),\n",
       " ('crying', 0.9648758769035339),\n",
       " ('cell', 0.964623212814331)]"
      ]
     },
     "execution_count": null,
     "metadata": {},
     "output_type": "execute_result"
    }
   ],
   "source": [
    "word_embedding = wv['car']\n",
    "wv.similar_by_vector(word_embedding)"
   ]
  },
  {
   "cell_type": "markdown",
   "metadata": {},
   "source": [
    "# Arithmetic on words"
   ]
  },
  {
   "cell_type": "markdown",
   "metadata": {},
   "source": [
    "Now, let's perform some mathematical operations on words, i.e. on their vector representations!\n",
    "\n",
    "As any learned word is represented as a vector, you can do basic arithmetic operations, such as:\n",
    "\n",
    "$$W2V(good) - W2V(bad)$$"
   ]
  },
  {
   "cell_type": "markdown",
   "metadata": {},
   "source": [
    "❓ **Question** ❓ Do this mathematical operation and print the result"
   ]
  },
  {
   "cell_type": "code",
   "execution_count": null,
   "metadata": {
    "tags": [
     "challengify"
    ]
   },
   "outputs": [
    {
     "data": {
      "text/plain": [
       "array([-3.35204482e-01, -5.39317876e-02,  5.60577214e-01,  4.00356054e-02,\n",
       "        1.18963480e-01, -7.49323964e-02, -3.08225453e-01, -8.15886557e-02,\n",
       "        1.23062611e-01, -1.66422248e-01, -3.05041671e-03,  8.43095779e-03,\n",
       "        3.57379913e-01, -2.07678378e-02,  5.27310073e-02,  5.10612130e-01,\n",
       "       -5.31582057e-01,  2.21286088e-01, -3.87071490e-01,  2.08747268e-01,\n",
       "       -1.81439936e-01,  1.83053762e-02,  1.31134987e-02,  1.23385340e-01,\n",
       "        8.92934650e-02,  2.53247917e-02,  2.28370607e-01,  4.38454956e-01,\n",
       "       -1.06396973e-01, -4.12633717e-01, -2.98880756e-01,  1.57418534e-01,\n",
       "       -1.01187259e-01,  2.42535710e-01, -2.21824646e-02, -4.69239354e-01,\n",
       "        2.79041231e-02, -8.62695575e-02, -1.56741858e-01,  9.64850187e-01,\n",
       "       -1.97741836e-01,  8.42287540e-02, -2.48104975e-01, -4.54155207e-02,\n",
       "        2.71278471e-01, -2.71916568e-01,  8.04454684e-01, -3.28045428e-01,\n",
       "       -3.14430118e-01,  3.24516714e-01, -1.74411982e-02, -1.63446426e-01,\n",
       "       -3.46651345e-01, -2.57554531e-01, -1.09663084e-01,  3.26971769e-01,\n",
       "       -5.73724508e-04,  1.25631690e-01,  1.86491728e-01,  7.24415421e-01,\n",
       "        2.02515319e-01,  3.23568165e-01, -2.39042401e-01, -4.91894394e-01,\n",
       "        5.96908331e-02,  7.87150860e-02, -3.47234428e-01,  1.04042016e-01,\n",
       "        3.64582717e-01,  4.38006461e-01, -5.68329513e-01, -4.81988162e-01,\n",
       "        3.96231502e-01,  2.74603367e-01,  1.26507401e-01,  3.42716843e-01,\n",
       "        3.32973711e-02, -1.16000772e-01,  2.88860798e-02,  7.35542998e-02,\n",
       "        1.75556540e-03, -6.24084175e-01, -6.94656253e-01, -2.46016979e-02,\n",
       "       -5.44346511e-01,  2.30032071e-01, -1.53368831e-01, -1.85464412e-01,\n",
       "        5.20436406e-01, -7.06410527e-01, -5.38221836e-01,  3.83170247e-02,\n",
       "        3.33328068e-01,  4.22514319e-01, -1.35591328e-01, -7.93454647e-02,\n",
       "        4.17896092e-01,  3.75170350e-01, -7.71828890e-01,  1.76563263e-02],\n",
       "      dtype=float32)"
      ]
     },
     "execution_count": null,
     "metadata": {},
     "output_type": "execute_result"
    }
   ],
   "source": [
    "wv['good'] - wv['bad']"
   ]
  },
  {
   "cell_type": "markdown",
   "metadata": {},
   "source": [
    "Now, imagine for a second that the following equality holds true:\n",
    "\n",
    "$$W2V(good) - W2V(bad) = W2V(nice) - W2V(stupid)$$\n",
    "\n",
    "which is equivalent to:\n",
    "\n",
    "$$W2V(good) - W2V(bad) + W2V(stupid) = W2V(nice)$$"
   ]
  },
  {
   "cell_type": "markdown",
   "metadata": {},
   "source": [
    "❓ **Question** ❓ Let's, just for fun (as it would be bold of us to think that this equality holds true ...), do the operation $W2V(good) - W2V(bad) + W2V(stupid)$ and store it in a `res` variable (which will be a vector of size 100 that you can print)."
   ]
  },
  {
   "cell_type": "code",
   "execution_count": null,
   "metadata": {
    "tags": [
     "challengify"
    ]
   },
   "outputs": [],
   "source": [
    "res = wv['good'] - wv['bad'] + wv['stupid']"
   ]
  },
  {
   "cell_type": "markdown",
   "metadata": {},
   "source": [
    "We said earlier, that for any vector it is possible to see the closest vectors in the embedding space."
   ]
  },
  {
   "cell_type": "markdown",
   "metadata": {},
   "source": [
    "❓ **Question** ❓ Look at the closest vectors of `res`\n",
    "\n",
    "💡 _Hint_: `similar_by_vector`"
   ]
  },
  {
   "cell_type": "code",
   "execution_count": null,
   "metadata": {
    "tags": [
     "challengify"
    ]
   },
   "outputs": [
    {
     "data": {
      "text/plain": [
       "[('nice', 0.7974029779434204),\n",
       " ('great', 0.7863602638244629),\n",
       " ('good', 0.7855014801025391),\n",
       " ('also', 0.7433030009269714),\n",
       " ('decent', 0.7308431267738342),\n",
       " ('always', 0.7274901270866394),\n",
       " ('criticize', 0.7161659598350525),\n",
       " ('casting', 0.7142699956893921),\n",
       " ('such', 0.7132682204246521),\n",
       " ('potential', 0.7108792066574097)]"
      ]
     },
     "execution_count": null,
     "metadata": {},
     "output_type": "execute_result"
    }
   ],
   "source": [
    "wv.similar_by_vector(res)"
   ]
  },
  {
   "cell_type": "markdown",
   "metadata": {},
   "source": [
    "Incredible right! You can do arithmetic operations on words!\n",
    "\n",
    "❓ **Question** ❓ You can try on arithmetic such as \n",
    "\n",
    "$$W2V(Boy) - W2V(Girl) = W2V(Man) - W2V(Woman)$$\n",
    "\n",
    "or \n",
    "\n",
    "$$W2V(Queen) - W2V(King) = W2V(actress) - W2V(actor)$$\n",
    "\n",
    "❗ **Remark** ❗ You will probably see that the results are not perfect. But don't forget that you trained your model on a very small corpus."
   ]
  },
  {
   "cell_type": "code",
   "execution_count": null,
   "metadata": {
    "tags": [
     "challengify"
    ]
   },
   "outputs": [
    {
     "data": {
      "text/plain": [
       "[('actor', 0.9736447930335999),\n",
       " ('actress', 0.8732225298881531),\n",
       " ('role', 0.8636681437492371),\n",
       " ('performance', 0.8456940650939941),\n",
       " ('guy', 0.8212233185768127),\n",
       " ('man', 0.8078545928001404),\n",
       " ('job', 0.8041061162948608),\n",
       " ('character', 0.7904359698295593),\n",
       " ('pet', 0.7810004949569702),\n",
       " ('inexperienced', 0.7720905542373657)]"
      ]
     },
     "execution_count": null,
     "metadata": {},
     "output_type": "execute_result"
    }
   ],
   "source": [
    "res = wv['queen'] - wv['king'] + wv['actor']\n",
    "wv.similar_by_vector(res)"
   ]
  },
  {
   "cell_type": "markdown",
   "metadata": {},
   "source": [
    "<u><i>Some notes about Word2Vec as an internal Neural Network</i></u>:\n",
    "\n",
    "You might wonder where does this magic comes from (at quite a low price, you just ran a line of code on a very small corpus and it was trained within few minutes). The magic comes from the way Word2Vec is trained. The details are quite complex, but you can remember that Word2vec, in `word2vec = Word2Vec(sentences=X_train)`, actually trains a internal neural network (that you don't see).  \n",
    "\n",
    "In a nutshell, this internal neural network predicts a word from the surroundings words in a sentences. Hence, it splits the original sentences, then for each split it chooses some words as inputs $X$ and a word as the output $y$ which it tries to predict, using the embedding space.\n",
    "\n",
    "And as with any neural network, Word2Vec has some hyperparameters. Let's play with some of these. "
   ]
  },
  {
   "cell_type": "markdown",
   "metadata": {},
   "source": [
    "# Word2Vec hyperparameters"
   ]
  },
  {
   "cell_type": "markdown",
   "metadata": {},
   "source": [
    "❓ **Question** ❓ The first important hyperparameter is the `vector_size` argument. It corresponds to the size of the embedding space. Learn a new `word2vec_2` model, still trained on the `X_train`, but with a smaller or higher `vector_size`.\n",
    "\n",
    "Verify on some words that the embedding size is the one you chose."
   ]
  },
  {
   "cell_type": "code",
   "execution_count": null,
   "metadata": {
    "tags": [
     "challengify"
    ]
   },
   "outputs": [
    {
     "data": {
      "text/plain": [
       "50"
      ]
     },
     "execution_count": null,
     "metadata": {},
     "output_type": "execute_result"
    }
   ],
   "source": [
    "word2vec_2 = Word2Vec(sentences=X_train, vector_size=50)\n",
    "wv2 = word2vec_2.wv\n",
    "len(wv2['movie'])"
   ]
  },
  {
   "cell_type": "markdown",
   "metadata": {},
   "source": [
    "❓ **Question** ❓ Use the **`Word2Vec.wv.key_to_index`** attribute to display the size of the learned vocabulary. Compare it to the number of different words in `X_train`."
   ]
  },
  {
   "cell_type": "code",
   "execution_count": null,
   "metadata": {
    "tags": [
     "challengify"
    ]
   },
   "outputs": [
    {
     "name": "stdout",
     "output_type": "stream",
     "text": [
      "Vocabulary size 8006\n",
      "Number of different words in the train set 30419\n"
     ]
    }
   ],
   "source": [
    "print('Vocabulary size', len(wv2.key_to_index))\n",
    "\n",
    "diff_words = set([_ for elt in X_train for _ in elt])\n",
    "print('Number of different words in the train set', len(diff_words))"
   ]
  },
  {
   "cell_type": "markdown",
   "metadata": {},
   "source": [
    "There is an important difference between the number of words in the train sentences and in the Word2Vec vocabulary, even though it has been trained on the train sentence set. The reasons comes from the second important hyperparameter of Word2Vec:  `min_count`. \n",
    "\n",
    "`min_count` is a integer that tells you how many occurrences a given word should have to be learned in the embedding space. For instance, let's say that the word \"movie\" appears 1000 times in the corpus and \"simba\" only 2 times. If `min_count=3`, the word \"simba\" will be skipped during the training.\n",
    "\n",
    "The intention is to learn a representation of words that are sufficiently present in the corpus to have a robust embedded representation."
   ]
  },
  {
   "cell_type": "markdown",
   "metadata": {},
   "source": [
    "❓ **Question** ❓ Learn a new `word2vec_3` model with a `min_count` higher than 5 (which is the default value) and a `word2vec_4` with a `min_count` smaller than 5, and then, compare the size of the vocabulary for all the different word2vecs that you have trained (you can choose any `vector_size` you want)."
   ]
  },
  {
   "cell_type": "code",
   "execution_count": null,
   "metadata": {
    "tags": [
     "challengify"
    ]
   },
   "outputs": [
    {
     "name": "stdout",
     "output_type": "stream",
     "text": [
      "Number of word in W2V #1 : 8006\n",
      "Number of word in W2V #2 : 8006\n",
      "Number of word in W2V #3 : 1385\n",
      "Number of word in W2V #4 : 16729\n"
     ]
    }
   ],
   "source": [
    "word2vec_3 = Word2Vec(sentences=X_train, vector_size=50, min_count=40)\n",
    "word2vec_4 = Word2Vec(sentences=X_train, vector_size=50, min_count=2)\n",
    "\n",
    "print(f'Number of word in W2V #1 : {len(wv.key_to_index)}')\n",
    "print(f'Number of word in W2V #2 : {len(wv2.key_to_index)}')\n",
    "print(f'Number of word in W2V #3 : {len(word2vec_3.wv.key_to_index)}')\n",
    "print(f'Number of word in W2V #4 : {len(word2vec_4.wv.key_to_index)}')"
   ]
  },
  {
   "cell_type": "markdown",
   "metadata": {},
   "source": [
    "Remember that Word2Vec has an internal neural network that is optimized based on some predictions. These predictions actually correspond to predicting a word based on surrounding words. The surroundings words are in a `window` which corresponds to the number of words taken into account. And you can train the Word2Vec with different `window` sizes."
   ]
  },
  {
   "cell_type": "markdown",
   "metadata": {},
   "source": [
    "❓ **Question** ❓ Train a new `word2vec_5` model with a `window` different than previously (default is 5)."
   ]
  },
  {
   "cell_type": "code",
   "execution_count": null,
   "metadata": {
    "tags": [
     "challengify"
    ]
   },
   "outputs": [],
   "source": [
    "word2vec_5 = Word2Vec(sentences=X_train, vector_size=50, min_count=40, window=10)"
   ]
  },
  {
   "cell_type": "markdown",
   "metadata": {},
   "source": [
    "The arguments you have seen (`vector_size`, `min_count` and `window`) are usually the ones that you should start playing with to get a better performance for your model.\n",
    "\n",
    "But you can also look at other arguments in the [**📚 Documentation - gensim.models.word2vec.Text8Corpus**](https://radimrehurek.com/gensim/models/word2vec.html#gensim.models.word2vec.Text8Corpus)"
   ]
  },
  {
   "cell_type": "markdown",
   "metadata": {},
   "source": [
    "# Convert our train and test set to RNN-ready datasets"
   ]
  },
  {
   "cell_type": "markdown",
   "metadata": {},
   "source": [
    "Remember that `Word2Vec` is the first step to the overall process of feeding such a representation into a RNN, as shown here:\n",
    "\n",
    "<img src=\"word2vec_representation.png\" width=\"400px\" />\n",
    "\n",
    "\n",
    "\n",
    "Now, let's work on Step 2 by converting the training and test data into their vector representation to be ready to be fed in RNNs.\n",
    "\n",
    "❓ **Question** ❓ Now, write a function that, given a sentence, returns a matrix that corresponds to the embedding of the full sentence, which means that you have to embed each word one after the other and concatenate the result to output a 2D matrix (make sure that your output is a NumPy array)\n",
    "\n",
    "❗ **Remark** ❗ You will probably notice that some words you are trying to convert throw errors as they are said not to belong to the dictionary:\n",
    "\n",
    "- For the <font color=orange>test</font> set, this is understandable: <font color=orange>some words were not</font> in the <font color=blue>train</font> set and thus, their <font color=orange>embedded representation is unknown</font>\n",
    "- for the <font color=blue>train set</font>, due to `min_count` hyperparameter, not all the words have a vector representation.\n",
    "\n",
    "In any case, just skip the missing words here."
   ]
  },
  {
   "cell_type": "code",
   "execution_count": null,
   "metadata": {},
   "outputs": [],
   "source": [
    "import numpy as np\n",
    "\n",
    "example = ['this', 'movie', 'is', 'the', 'worst', 'action', 'movie', 'ever']\n",
    "example_missing_words = ['this', 'movie', 'is', 'laaaaaaaaaame']\n",
    "\n",
    "def embed_sentence(word2vec, sentence):\n",
    "    embedded_sentence = []\n",
    "    for word in sentence:\n",
    "        if word in word2vec.wv:\n",
    "            embedded_sentence.append(word2vec.wv[word])\n",
    "        \n",
    "    return np.array(embedded_sentence)\n",
    "    \n",
    "### Checks\n",
    "embedded_sentence = embed_sentence(word2vec, example)\n",
    "assert(type(embedded_sentence) == np.ndarray)\n",
    "assert(embedded_sentence.shape == (8, 100))\n",
    "\n",
    "embedded_sentence_missing_words = embed_sentence(word2vec, example_missing_words)  \n",
    "assert(type(embedded_sentence_missing_words) == np.ndarray)\n",
    "assert(embedded_sentence_missing_words.shape == (3, 100))"
   ]
  },
  {
   "cell_type": "markdown",
   "metadata": {},
   "source": [
    "❓ **Question** ❓ Write a function that, given a list of sentences (each sentence being a list of words/strings), returns a list of embedded sentences (each sentence is a matrix). Apply this function to the train and test sentences\n",
    "\n",
    "💡 _Hint_: Use the previous function `embed_sentence`"
   ]
  },
  {
   "cell_type": "code",
   "execution_count": null,
   "metadata": {},
   "outputs": [],
   "source": [
    "def embedding(word2vec, sentences):\n",
    "    embed = []\n",
    "    \n",
    "    for sentence in sentences:\n",
    "        embedded_sentence = embed_sentence(word2vec, sentence)\n",
    "        embed.append(embedded_sentence)\n",
    "        \n",
    "    return embed\n",
    "    \n",
    "X_train = embedding(word2vec, X_train)\n",
    "X_test = embedding(word2vec, X_test)"
   ]
  },
  {
   "cell_type": "markdown",
   "metadata": {},
   "source": [
    "❓ **Question** ❓ In order to have ready-to-use data, do not forget to pad your sequences so you have tensors which can be divided into batches (of `batch_size`) during the optimization. Store the padded values in `X_train_pad` and `X_test_pad`. Do not forget the important arguments of the padding ;)"
   ]
  },
  {
   "cell_type": "code",
   "execution_count": null,
   "metadata": {},
   "outputs": [],
   "source": [
    "from tensorflow.keras.preprocessing.sequence import pad_sequences\n",
    "\n",
    "X_train_pad = pad_sequences(X_train, dtype='float32', padding='post')\n",
    "X_test_pad = pad_sequences(X_test, dtype='float32', padding='post')\n",
    "\n",
    "assert(len(X_train_pad.shape) == 3)\n",
    "assert(len(X_test_pad.shape) == 3)\n",
    "assert(X_train_pad.shape[2] == 100)\n",
    "assert(X_test_pad.shape[2] == 100)"
   ]
  }
 ],
 "metadata": {
  "kernelspec": {
   "display_name": "Python 3 (ipykernel)",
   "language": "python",
   "name": "python3"
  },
  "language_info": {
   "codemirror_mode": {
    "name": "ipython",
    "version": 3
   },
   "file_extension": ".py",
   "mimetype": "text/x-python",
   "name": "python",
   "nbconvert_exporter": "python",
   "pygments_lexer": "ipython3",
   "version": "3.10.6"
  },
  "toc": {
   "base_numbering": 1,
   "nav_menu": {},
   "number_sections": true,
   "sideBar": true,
   "skip_h1_title": false,
   "title_cell": "Table of Contents",
   "title_sidebar": "Contents",
   "toc_cell": false,
   "toc_position": {},
   "toc_section_display": true,
   "toc_window_display": false
  }
 },
 "nbformat": 4,
 "nbformat_minor": 4
}
